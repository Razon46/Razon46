{
  "nbformat": 4,
  "nbformat_minor": 0,
  "metadata": {
    "colab": {
      "name": "A1_CT_1_17101046.ipynb",
      "provenance": [],
      "authorship_tag": "ABX9TyPsRImSwOhaX4N52IFu1XAe",
      "include_colab_link": true
    },
    "kernelspec": {
      "name": "python3",
      "display_name": "Python 3"
    }
  },
  "cells": [
    {
      "cell_type": "markdown",
      "metadata": {
        "id": "view-in-github",
        "colab_type": "text"
      },
      "source": [
        "<a href=\"https://colab.research.google.com/github/Razon46/Razon46/blob/master/A1_CT_1_17101046.ipynb\" target=\"_parent\"><img src=\"https://colab.research.google.com/assets/colab-badge.svg\" alt=\"Open In Colab\"/></a>"
      ]
    },
    {
      "cell_type": "code",
      "metadata": {
        "id": "jRZybDiwnKwk",
        "colab_type": "code",
        "colab": {}
      },
      "source": [
        ""
      ],
      "execution_count": null,
      "outputs": []
    },
    {
      "cell_type": "markdown",
      "metadata": {
        "id": "g3vSgMTtny3j",
        "colab_type": "text"
      },
      "source": [
        "1 . Write a python program to calculate compound interest.\n",
        "\n",
        "Formula to calculate compound interest annually is given by:\n",
        "\n",
        "Compound Interest = P(1 + R/100)T \n",
        "Where,\n",
        "P is principal amount\n",
        "R is the rate and\n",
        "T is the time span\n",
        "\n",
        "Example:\n",
        "Input : \n",
        "        Principle (amount): 1200\n",
        "        Time: 2\n",
        "        Rate: 5.4\n",
        "Output : \n",
        "         Compound Interest = 1333.099243\n"
      ]
    },
    {
      "cell_type": "code",
      "metadata": {
        "id": "-p7VAlZSn5C1",
        "colab_type": "code",
        "colab": {
          "base_uri": "https://localhost:8080/",
          "height": 84
        },
        "outputId": "4768ae01-7ffc-4679-924e-887fe1c9d415"
      },
      "source": [
        "P = float (input(\"Principle (ammount) :\"))\n",
        "T = float (input(\"Time :\"))\n",
        "R = float (input(\"Rate:\"))\n",
        "\n",
        "compound_interest = P * (pow((1 + R / 100), T))\n",
        "\n",
        "print ( \"Compound Interest = \",compound_interest )\n"
      ],
      "execution_count": null,
      "outputs": [
        {
          "output_type": "stream",
          "text": [
            "Principle (ammount) :1200\n",
            "Time :2\n",
            "Rate:5.4\n",
            "Compound Interest =  1333.0992\n"
          ],
          "name": "stdout"
        }
      ]
    },
    {
      "cell_type": "markdown",
      "metadata": {
        "id": "PivTGYTmrI5I",
        "colab_type": "text"
      },
      "source": [
        "2 . \n",
        "Write a python program to calculate the surface area and volume of a cylinder.\n",
        "\n",
        "\n",
        "Example:\n",
        "Input:\n",
        "r = 10\n",
        "h = 5\n",
        "output: \n",
        "Surface area: 942.48 square units\n"
      ]
    },
    {
      "cell_type": "code",
      "metadata": {
        "id": "35IJMNMtrMyw",
        "colab_type": "code",
        "colab": {
          "base_uri": "https://localhost:8080/",
          "height": 84
        },
        "outputId": "bd72ef60-d674-400d-8588-e9221831a55e"
      },
      "source": [
        "r = float (input(\"r =\"))\n",
        "h = float (input(\"h =\"))\n",
        "\n",
        "v = 3.1416 *r**2 *h\n",
        "s = (2 * 3.1416 * r**2 ) + (2*3.1416*r*h)\n",
        "\n",
        "\n",
        "print(\"surface =\",round(s,2))\n",
        "print (\"Volume:\",round(v,2))\n"
      ],
      "execution_count": null,
      "outputs": [
        {
          "output_type": "stream",
          "text": [
            "r =10\n",
            "h =5\n",
            "surface = 942.48\n",
            "Volume: 1570.8\n"
          ],
          "name": "stdout"
        }
      ]
    },
    {
      "cell_type": "markdown",
      "metadata": {
        "id": "k0SbEBiBvD8I",
        "colab_type": "text"
      },
      "source": [
        "3 .\n",
        "Write a python program to calculate the volume and surface area of Cone.\n",
        "\n",
        "Volume:\n",
        "\n",
        "Surface area:\n",
        "\n"
      ]
    },
    {
      "cell_type": "code",
      "metadata": {
        "id": "4-f2ExVBvCF8",
        "colab_type": "code",
        "colab": {
          "base_uri": "https://localhost:8080/",
          "height": 84
        },
        "outputId": "77eb121d-841c-4832-9b42-70843d4238c3"
      },
      "source": [
        "r = float (input(\"r =\"))\n",
        "h = float (input(\"h =\"))\n",
        "\n",
        "volume = 1/3 * 3.1416 * r**2 * h\n",
        "surface_area = (3.1416 * r * h) + (3.1416 * r**2)\n",
        "\n",
        "print(\"Volume: \",volume)\n",
        "print(\"Surface area of triangle :\",surface_area)\n",
        "\n"
      ],
      "execution_count": null,
      "outputs": [
        {
          "output_type": "stream",
          "text": [
            "r =5\n",
            "h =5\n",
            "Volume:  130.89999999999998\n",
            "Surface area of triangle : 157.07999999999998\n"
          ],
          "name": "stdout"
        }
      ]
    },
    {
      "cell_type": "markdown",
      "metadata": {
        "id": "xB-pdp10vksg",
        "colab_type": "text"
      },
      "source": [
        "4. write a python program to calculate the volume and surface area of Sphere.\n",
        "Volume:\n",
        "surface area:\n",
        "\n"
      ]
    },
    {
      "cell_type": "code",
      "metadata": {
        "id": "M8vRzOAAvjMn",
        "colab_type": "code",
        "colab": {
          "base_uri": "https://localhost:8080/",
          "height": 67
        },
        "outputId": "df05067b-6809-488b-9e8c-bf00f3583fa4"
      },
      "source": [
        "r = float (input(\"r =\"))\n",
        "volume = 4/3 * 3.1416 * r**3\n",
        "surface_area= 4 * 3.1416 * r**2\n",
        "\n",
        "print (\"volume:\",volume)\n",
        "print (\"surface area:\",surface_area)"
      ],
      "execution_count": null,
      "outputs": [
        {
          "output_type": "stream",
          "text": [
            "r =5\n",
            "volume: 523.5999999999999\n",
            "surface area: 314.15999999999997\n"
          ],
          "name": "stdout"
        }
      ]
    }
  ]
}